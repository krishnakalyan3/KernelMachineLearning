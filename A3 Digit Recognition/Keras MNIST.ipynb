{
 "cells": [
  {
   "cell_type": "code",
   "execution_count": 22,
   "metadata": {
    "collapsed": false
   },
   "outputs": [],
   "source": [
    "%matplotlib inline\n",
    "import warnings\n",
    "from keras.models import Sequential\n",
    "from keras.layers import Dense, Activation, Convolution2D, Flatten, Dropout, MaxPooling2D\n",
    "from keras.optimizers import SGD\n",
    "import utils\n",
    "import numpy as np\n",
    "import matplotlib.pyplot as plt\n",
    "import pandas as pd\n",
    "from keras.utils.np_utils import to_categorical\n",
    "from keras import backend as K"
   ]
  },
  {
   "cell_type": "code",
   "execution_count": 23,
   "metadata": {
    "collapsed": false
   },
   "outputs": [],
   "source": [
    "num_classes = 10\n",
    "train = np.genfromtxt('/Users/krishna/MIRI/MVA/ZIP data/zip_train.dat')\n",
    "test = np.genfromtxt('/Users/krishna/MIRI/MVA/ZIP data/zip_test.dat')"
   ]
  },
  {
   "cell_type": "code",
   "execution_count": 24,
   "metadata": {
    "collapsed": false
   },
   "outputs": [],
   "source": [
    "X = train[:,1:]\n",
    "Y = train[:,0]\n",
    "Y = to_categorical(Y)"
   ]
  },
  {
   "cell_type": "code",
   "execution_count": 25,
   "metadata": {
    "collapsed": false
   },
   "outputs": [
    {
     "name": "stdout",
     "output_type": "stream",
     "text": [
      "True Value 6.0\n"
     ]
    },
    {
     "data": {
      "image/png": "[encoded data removed]",
      "text/plain": [
       "<matplotlib.figure.Figure at 0x1168529d0>"
      ]
     },
     "metadata": {},
     "output_type": "display_data"
    }
   ],
   "source": [
    "IMG_INDEX = 19\n",
    "X_test = test[:,1:]\n",
    "img_plt = X_test[IMG_INDEX,:].reshape((16,16))\n",
    "plt.imshow(img_plt, cmap='gray')\n",
    "print \"True Value\",test[IMG_INDEX,0] "
   ]
  },
  {
   "cell_type": "code",
   "execution_count": 26,
   "metadata": {
    "collapsed": true
   },
   "outputs": [],
   "source": [
    "sgd = SGD(momentum=0.9, decay=1e-4)\n",
    "model = Sequential()\n",
    "model.add(Dense(output_dim=400, input_dim=256))\n",
    "model.add(Activation('sigmoid'))\n",
    "model.add(Dense(output_dim=10))\n",
    "model.add(Activation('softmax'))\n",
    "model.compile(loss='categorical_crossentropy',optimizer=sgd, metrics=['accuracy'])"
   ]
  },
  {
   "cell_type": "code",
   "execution_count": 27,
   "metadata": {
    "collapsed": false
   },
   "outputs": [
    {
     "name": "stdout",
     "output_type": "stream",
     "text": [
      "Epoch 1/5\n",
      "7291/7291 [==============================] - 0s - loss: 1.4295 - acc: 0.6121     \n",
      "Epoch 2/5\n",
      "7291/7291 [==============================] - 0s - loss: 0.6277 - acc: 0.8759     \n",
      "Epoch 3/5\n",
      "7291/7291 [==============================] - 0s - loss: 0.4395 - acc: 0.8985     \n",
      "Epoch 4/5\n",
      "7291/7291 [==============================] - 0s - loss: 0.3600 - acc: 0.9132     \n",
      "Epoch 5/5\n",
      "7291/7291 [==============================] - 0s - loss: 0.3158 - acc: 0.9236     \n"
     ]
    },
    {
     "data": {
      "text/plain": [
       "<keras.callbacks.History at 0x116c2c2d0>"
      ]
     },
     "execution_count": 27,
     "metadata": {},
     "output_type": "execute_result"
    }
   ],
   "source": [
    "model.fit(X,Y, nb_epoch=5, batch_size=120)"
   ]
  },
  {
   "cell_type": "code",
   "execution_count": 28,
   "metadata": {
    "collapsed": false
   },
   "outputs": [],
   "source": [
    "X_test = test[:,1:]\n",
    "Y_test = test[:,0]\n",
    "Y_test = to_categorical(Y_test)"
   ]
  },
  {
   "cell_type": "code",
   "execution_count": 29,
   "metadata": {
    "collapsed": false
   },
   "outputs": [
    {
     "name": "stdout",
     "output_type": "stream",
     "text": [
      "2007/2007 [==============================] - 0s     \n",
      "2007/2007 [==============================] - 0s     \n",
      "Loss 0.417616549837 Accuracy 0.884902840179\n"
     ]
    }
   ],
   "source": [
    "y_pred = model.predict_classes(X_test)\n",
    "loss_metrics = model.evaluate(X_test, Y_test, batch_size=32)\n",
    "print \"Loss\", loss_metrics[0], \"Accuracy\", loss_metrics[1]"
   ]
  },
  {
   "cell_type": "code",
   "execution_count": 30,
   "metadata": {
    "collapsed": false
   },
   "outputs": [
    {
     "name": "stdout",
     "output_type": "stream",
     "text": [
      "Error  0.11509715994\n",
      "[[344   0   1   1   3   0   4   1   4   1]\n",
      " [  0 252   0   2   4   0   4   0   1   1]\n",
      " [  6   0 154   5  11   2   4   3  13   0]\n",
      " [  4   0   4 140   1  15   0   0   0   2]\n",
      " [  1   2   7   0 170   1   6   3   2   8]\n",
      " [  7   0   0   9   3 133   0   0   4   4]\n",
      " [  2   0   3   0   3   4 157   0   1   0]\n",
      " [  1   1   3   0   5   1   0 131   1   4]\n",
      " [  3   2   1   8   2   8   0   2 138   2]\n",
      " [  0   3   1   0   6   1   0   8   1 157]]\n"
     ]
    }
   ],
   "source": [
    "from sklearn.metrics import confusion_matrix,f1_score,accuracy_score\n",
    "cm = confusion_matrix(test[:,0], y_pred)\n",
    "error = 1.0 * sum(np.extract(1 -  np.eye(10), cm))/sum(sum(cm))\n",
    "print \"Error \", error\n",
    "print cm"
   ]
  },
  {
   "cell_type": "code",
   "execution_count": 32,
   "metadata": {
    "collapsed": false
   },
   "outputs": [
    {
     "name": "stdout",
     "output_type": "stream",
     "text": [
      "F1 score : 0.874800010602\n",
      "Accuracy : 0.88490284006\n"
     ]
    }
   ],
   "source": [
    "print \"F1 score :\",f1_score(test[:,0], y_pred, average='macro')\n",
    "print \"Accuracy :\",accuracy_score(test[:,0], y_pred)"
   ]
  }
 ],
 "metadata": {
  "kernelspec": {
   "display_name": "Python 2",
   "language": "python",
   "name": "python2"
  },
  "language_info": {
   "codemirror_mode": {
    "name": "ipython",
    "version": 2
   },
   "file_extension": ".py",
   "mimetype": "text/x-python",
   "name": "python",
   "nbconvert_exporter": "python",
   "pygments_lexer": "ipython2",
   "version": "2.7.9"
  }
 },
 "nbformat": 4,
 "nbformat_minor": 0
}
